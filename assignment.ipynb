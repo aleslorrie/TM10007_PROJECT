{
  "cells": [
    {
      "cell_type": "markdown",
      "metadata": {
        "id": "7SXpaKwwGe5x"
      },
      "source": [
        "# TM10007 Assignment template"
      ]
    },
    {
      "cell_type": "code",
      "execution_count": null,
      "metadata": {
        "id": "CiDn2Sk-VWqE"
      },
      "outputs": [],
      "source": [
        "# Run this to use from colab environment\n",
        "#!pip install -q --upgrade git+https://github.com/jveenland/tm10007_ml.git"
      ]
    },
    {
      "cell_type": "markdown",
      "metadata": {
        "id": "a1kxzuvBYl0e"
      },
      "source": [
        "## Data loading and cleaning\n",
        "\n",
        "Below are functions to load the dataset of your choice. After that, it is all up to you to create and evaluate a classification method. Beware, there may be missing values in these datasets. Good luck!"
      ]
    },
    {
      "cell_type": "code",
      "execution_count": 29,
      "metadata": {
        "id": "-NE_fTbKGe5z",
        "outputId": "41d8a998-c9c9-49c0-c753-ce6b03f90d93"
      },
      "outputs": [
        {
          "name": "stdout",
          "output_type": "stream",
          "text": [
            "The number of samples: 186\n",
            "The number of columns: 494\n",
            "                                                          mean          std\n",
            "PREDICT_original_sf_compactness_avg_2.5D              0.805954     0.076541\n",
            "PREDICT_original_sf_compactness_std_2.5D              0.068240     0.050810\n",
            "PREDICT_original_sf_rad_dist_avg_2.5D                28.539695    11.786114\n",
            "PREDICT_original_sf_rad_dist_std_2.5D                 4.498306     2.419078\n",
            "PREDICT_original_sf_roughness_avg_2.5D                8.326638     3.338394\n",
            "...                                                        ...          ...\n",
            "PREDICT_original_phasef_phasesym_peak_position_...    0.000000     0.000000\n",
            "PREDICT_original_phasef_phasesym_range_WL3_N5         0.434737     0.103427\n",
            "PREDICT_original_phasef_phasesym_energy_WL3_N5      681.212476  1050.837965\n",
            "PREDICT_original_phasef_phasesym_quartile_range...    0.088811     0.094786\n",
            "PREDICT_original_phasef_phasesym_entropy_WL3_N5      11.990334     1.849521\n",
            "\n",
            "[493 rows x 2 columns]\n"
          ]
        }
      ],
      "source": [
        "import pandas as pd\n",
        "\n",
        "# Data loading functions. Uncomment the one you want to use\n",
        "from worcliver.load_data import load_data\n",
        "\n",
        "\n",
        "data = load_data()\n",
        "print(f'The number of samples: {len(data.index)}')\n",
        "print(f'The number of columns: {len(data.columns)}')\n",
        "\n",
        "#Data deviden in bengign and malign \n",
        "benign = data[data['label'] == 'benign']\n",
        "malignant = data[data['label'] == 'malignant']\n",
        "\n",
        "benign.to_csv('benign_data.csv', index=True)\n",
        "malignant.to_csv('malignant_data.csv', index=True)\n",
        "\n",
        "\n",
        "#statistics \n",
        "# Gemiddelden\n",
        "benign_mean = benign.mean(numeric_only=True)\n",
        "malignant_mean = malignant.mean(numeric_only=True)\n",
        "\n",
        "# Standaarddeviaties\n",
        "benign_std = benign.std(numeric_only=True)\n",
        "malignant_std = malignant.std(numeric_only=True)\n",
        "\n",
        "#Print statistiek \n",
        "benign_stats = pd.DataFrame({\n",
        "    'mean': benign.mean(numeric_only=True),\n",
        "    'std': benign.std(numeric_only=True)\n",
        "})\n",
        "print(benign_stats)\n",
        "benign_stats.T.to_csv('benign_stats.csv')\n",
        "\n",
        "\n",
        "malignant_stats = pd.DataFrame({\n",
        "    'mean': malignant.mean(numeric_only=True),\n",
        "    'std': malignant.std(numeric_only=True)\n",
        "})\n",
        "malignant_stats.T.to_csv('malignant_stats.csv')\n",
        "\n",
        "\n"
      ]
    },
    {
      "cell_type": "code",
      "execution_count": 8,
      "metadata": {
        "vscode": {
          "languageId": "perl"
        }
      },
      "outputs": [
        {
          "name": "stdout",
          "output_type": "stream",
          "text": [
            "\n",
            "Columns in the dataset:\n",
            "Index(['label', 'PREDICT_original_sf_compactness_avg_2.5D',\n",
            "       'PREDICT_original_sf_compactness_std_2.5D',\n",
            "       'PREDICT_original_sf_rad_dist_avg_2.5D',\n",
            "       'PREDICT_original_sf_rad_dist_std_2.5D',\n",
            "       'PREDICT_original_sf_roughness_avg_2.5D',\n",
            "       'PREDICT_original_sf_roughness_std_2.5D',\n",
            "       'PREDICT_original_sf_convexity_avg_2.5D',\n",
            "       'PREDICT_original_sf_convexity_std_2.5D',\n",
            "       'PREDICT_original_sf_cvar_avg_2.5D',\n",
            "       ...\n",
            "       'PREDICT_original_phasef_phasesym_median_WL3_N5',\n",
            "       'PREDICT_original_phasef_phasesym_std_WL3_N5',\n",
            "       'PREDICT_original_phasef_phasesym_skewness_WL3_N5',\n",
            "       'PREDICT_original_phasef_phasesym_kurtosis_WL3_N5',\n",
            "       'PREDICT_original_phasef_phasesym_peak_WL3_N5',\n",
            "       'PREDICT_original_phasef_phasesym_peak_position_WL3_N5',\n",
            "       'PREDICT_original_phasef_phasesym_range_WL3_N5',\n",
            "       'PREDICT_original_phasef_phasesym_energy_WL3_N5',\n",
            "       'PREDICT_original_phasef_phasesym_quartile_range_WL3_N5',\n",
            "       'PREDICT_original_phasef_phasesym_entropy_WL3_N5'],\n",
            "      dtype='object', length=494)\n",
            "\n",
            "Train-Test Split:\n",
            "Train set: 139 samples\n",
            "Test set: 47 samples\n",
            "Klasseverdeling in train:\n",
            "label\n",
            "malignant    0.503597\n",
            "benign       0.496403\n",
            "Name: proportion, dtype: float64\n",
            "Klasseverdeling in test:\n",
            "label\n",
            "malignant    0.510638\n",
            "benign       0.489362\n",
            "Name: proportion, dtype: float64\n"
          ]
        },
        {
          "name": "stderr",
          "output_type": "stream",
          "text": [
            "c:\\Users\\2002k\\miniconda3\\Lib\\site-packages\\scipy\\stats\\_axis_nan_policy.py:586: UserWarning: scipy.stats.shapiro: Input data has range zero. The results may not be accurate.\n",
            "  res = hypotest_fun_out(*samples, **kwds)\n",
            "c:\\Users\\2002k\\miniconda3\\Lib\\site-packages\\scipy\\stats\\_axis_nan_policy.py:586: RuntimeWarning: Precision loss occurred in moment calculation due to catastrophic cancellation. This occurs when the data are nearly identical. Results may be unreliable.\n",
            "  res = hypotest_fun_out(*samples, **kwds)\n"
          ]
        },
        {
          "name": "stdout",
          "output_type": "stream",
          "text": [
            "\n",
            "Total Significant Features:\n",
            "                                              Feature                 Test  \\\n",
            "34                PREDICT_original_tf_LBP_peak_R3_P12               t-test   \n",
            "18              PREDICT_original_logf_kurtosis_sigma1  Mann-Whitney U-test   \n",
            "32                 PREDICT_original_tf_LBP_std_R3_P12  Mann-Whitney U-test   \n",
            "92  PREDICT_original_vf_Frangi_full_quartile_range...  Mann-Whitney U-test   \n",
            "98  PREDICT_original_vf_Frangi_edge_quartile_range...  Mann-Whitney U-test   \n",
            "..                                                ...                  ...   \n",
            "77  PREDICT_original_tf_Gabor_quartile_range_F0.5_...  Mann-Whitney U-test   \n",
            "36             PREDICT_original_tf_LBP_entropy_R3_P12  Mann-Whitney U-test   \n",
            "73           PREDICT_original_tf_Gabor_min_F0.2_A2.36  Mann-Whitney U-test   \n",
            "48  PREDICT_original_tf_GLCMMS_homogeneityd3.0A2.3...  Mann-Whitney U-test   \n",
            "35              PREDICT_original_tf_LBP_energy_R3_P12  Mann-Whitney U-test   \n",
            "\n",
            "         p_value   benign_mean  malignant_mean    benign_std  malignant_std  \n",
            "34  2.345974e-15  1.274000e+01    1.274000e+01  7.144361e-15   7.143526e-15  \n",
            "18  7.920937e-07  3.670161e+01    2.057749e+01  2.864867e+01   1.487566e+01  \n",
            "32  3.665675e-06  4.698734e+00    4.557552e+00  2.208382e-01   2.257413e-01  \n",
            "92  7.967769e-06  7.538761e-10    4.936967e-08  6.757886e-10   3.293014e-07  \n",
            "98  7.967769e-06  7.538761e-10    4.936967e-08  6.757886e-10   3.293014e-07  \n",
            "..           ...           ...             ...           ...            ...  \n",
            "77  4.368042e-02  1.543016e-02    2.191209e-02  1.104530e-02   2.110295e-02  \n",
            "36  4.690242e-02  1.388809e+01    1.443498e+01  1.670870e+00   2.038597e+00  \n",
            "73  4.720500e-02 -5.667319e-02   -6.916436e-02  2.350483e-02   3.559297e-02  \n",
            "48  4.781508e-02  7.016095e-02    6.233912e-02  2.748900e-02   2.407639e-02  \n",
            "35  4.905514e-02  3.652016e+07    1.386825e+07  3.184027e+08   5.751967e+07  \n",
            "\n",
            "[108 rows x 7 columns]\n",
            "\n",
            "Significant features saved to 'significant_features.csv'\n",
            "\n",
            "Number of significant features: 108\n"
          ]
        }
      ],
      "source": [
        "import pandas as pd\n",
        "import numpy as np\n",
        "from sklearn.model_selection import train_test_split\n",
        "from scipy.stats import ttest_ind, mannwhitneyu, shapiro\n",
        "from statsmodels.stats.multitest import multipletests\n",
        "\n",
        "# Check column names to ensure correct splitting\n",
        "print(\"\\nColumns in the dataset:\")\n",
        "print(data.columns)\n",
        "\n",
        "# Separate features and labels\n",
        "# Use .copy() to avoid SettingWithCopyWarning\n",
        "X = data.drop(columns=['label']).copy()  # Drop label column for features\n",
        "y = data['label'].copy()  # Use label column for target\n",
        "\n",
        "# Train-test split with stratification\n",
        "X_train, X_test, y_train, y_test = train_test_split(X, y, test_size=0.25, random_state=42, stratify=y)\n",
        "\n",
        "# Verify split\n",
        "print(\"\\nTrain-Test Split:\")\n",
        "print(f\"Train set: {len(X_train)} samples\")\n",
        "print(f\"Test set: {len(X_test)} samples\")\n",
        "print(f\"Klasseverdeling in train:\\n{y_train.value_counts(normalize=True)}\")\n",
        "print(f\"Klasseverdeling in test:\\n{y_test.value_counts(normalize=True)}\")\n",
        "\n",
        "# Separate benign and malignant samples\n",
        "benign = data[data['label'] == 'benign']\n",
        "malignant = data[data['label'] == 'malignant']\n",
        "\n",
        "# Perform statistical analysis\n",
        "results = []\n",
        "significant_features = []\n",
        "\n",
        "# Loop through all features except 'label'\n",
        "for feature in X.columns:\n",
        "    # Data for current feature\n",
        "    benign_values = benign[feature].dropna()\n",
        "    malignant_values = malignant[feature].dropna()\n",
        "\n",
        "    # Normality test (Shapiro-Wilk test, p < 0.05 means NOT normally distributed)\n",
        "    _, p_benign = shapiro(benign_values)\n",
        "    _, p_malignant = shapiro(malignant_values)\n",
        "\n",
        "    # Determine which test to use\n",
        "    if p_benign > 0.05 and p_malignant > 0.05:  # Both distributions are normal\n",
        "        test_type = \"t-test\"\n",
        "        stat, p_value = ttest_ind(benign_values, malignant_values, equal_var=False)  # Welch's t-test\n",
        "    else:\n",
        "        test_type = \"Mann-Whitney U-test\"\n",
        "        stat, p_value = mannwhitneyu(benign_values, malignant_values, alternative='two-sided')\n",
        "\n",
        "    # Save results\n",
        "    result_entry = {\n",
        "        \"Feature\": feature, \n",
        "        \"Test\": test_type, \n",
        "        \"p_value\": p_value\n",
        "    }\n",
        "    results.append(result_entry)\n",
        "\n",
        "    # Check for significance (p <= 0.05)\n",
        "    if p_value <= 0.05:\n",
        "        significant_entry = result_entry.copy()\n",
        "        significant_entry['benign_mean'] = benign_values.mean()\n",
        "        significant_entry['malignant_mean'] = malignant_values.mean()\n",
        "        significant_entry['benign_std'] = benign_values.std()\n",
        "        significant_entry['malignant_std'] = malignant_values.std()\n",
        "        significant_features.append(significant_entry)\n",
        "\n",
        "# Convert to DataFrames\n",
        "results_df = pd.DataFrame(results)\n",
        "significant_features_df = pd.DataFrame(significant_features)\n",
        "\n",
        "# Multiple testing correction (False Discovery Rate - Benjamini-Hochberg)\n",
        "_, p_corrected, _, _ = multipletests(results_df[\"p_value\"], method='fdr_bh')\n",
        "results_df[\"p_value_corrected\"] = p_corrected\n",
        "\n",
        "# Sort significant features by p-value\n",
        "significant_features_df = significant_features_df.sort_values(by=\"p_value\")\n",
        "\n",
        "# Print and save results\n",
        "print(\"\\nTotal Significant Features:\")\n",
        "print(significant_features_df)\n",
        "\n",
        "# Optional: Save to CSV\n",
        "significant_features_df.to_csv('significant_features.csv', index=False)\n",
        "print(\"\\nSignificant features saved to 'significant_features.csv'\")\n",
        "\n",
        "# Quick summary\n",
        "print(f\"\\nNumber of significant features: {len(significant_features_df)}\")"
      ]
    },
    {
      "cell_type": "code",
      "execution_count": null,
      "metadata": {},
      "outputs": [],
      "source": []
    }
  ],
  "metadata": {
    "colab": {
      "name": "assignment.ipynb",
      "provenance": []
    },
    "kernelspec": {
      "display_name": "Python 3",
      "language": "python",
      "name": "python3"
    },
    "language_info": {
      "codemirror_mode": {
        "name": "ipython",
        "version": 3
      },
      "file_extension": ".py",
      "mimetype": "text/x-python",
      "name": "python",
      "nbconvert_exporter": "python",
      "pygments_lexer": "ipython3",
      "version": "3.12.9"
    }
  },
  "nbformat": 4,
  "nbformat_minor": 0
}
