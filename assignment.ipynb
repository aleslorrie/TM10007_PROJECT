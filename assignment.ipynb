{
  "cells": [
    {
      "cell_type": "markdown",
      "metadata": {
        "id": "7SXpaKwwGe5x"
      },
      "source": [
        "# TM10007 Assignment template"
      ]
    },
    {
      "cell_type": "code",
      "execution_count": null,
      "metadata": {
        "id": "CiDn2Sk-VWqE"
      },
      "outputs": [],
      "source": [
        "# Run this to use from colab environment\n",
        "#!pip install -q --upgrade git+https://github.com/jveenland/tm10007_ml.git"
      ]
    },
    {
      "cell_type": "markdown",
      "metadata": {
        "id": "a1kxzuvBYl0e"
      },
      "source": [
        "## Data loading and cleaning\n",
        "\n",
        "Below are functions to load the dataset of your choice. After that, it is all up to you to create and evaluate a classification method. Beware, there may be missing values in these datasets. Good luck!"
      ]
    },
    {
      "cell_type": "code",
      "execution_count": 29,
      "metadata": {
        "id": "-NE_fTbKGe5z",
        "outputId": "41d8a998-c9c9-49c0-c753-ce6b03f90d93"
      },
      "outputs": [
        {
          "name": "stdout",
          "output_type": "stream",
          "text": [
            "The number of samples: 186\n",
            "The number of columns: 494\n",
            "                                                          mean          std\n",
            "PREDICT_original_sf_compactness_avg_2.5D              0.805954     0.076541\n",
            "PREDICT_original_sf_compactness_std_2.5D              0.068240     0.050810\n",
            "PREDICT_original_sf_rad_dist_avg_2.5D                28.539695    11.786114\n",
            "PREDICT_original_sf_rad_dist_std_2.5D                 4.498306     2.419078\n",
            "PREDICT_original_sf_roughness_avg_2.5D                8.326638     3.338394\n",
            "...                                                        ...          ...\n",
            "PREDICT_original_phasef_phasesym_peak_position_...    0.000000     0.000000\n",
            "PREDICT_original_phasef_phasesym_range_WL3_N5         0.434737     0.103427\n",
            "PREDICT_original_phasef_phasesym_energy_WL3_N5      681.212476  1050.837965\n",
            "PREDICT_original_phasef_phasesym_quartile_range...    0.088811     0.094786\n",
            "PREDICT_original_phasef_phasesym_entropy_WL3_N5      11.990334     1.849521\n",
            "\n",
            "[493 rows x 2 columns]\n"
          ]
        }
      ],
      "source": [
        "import pandas as pd\n",
        "\n",
        "# Data loading functions. Uncomment the one you want to use\n",
        "from worcliver.load_data import load_data\n",
        "\n",
        "\n",
        "data = load_data()\n",
        "print(f'The number of samples: {len(data.index)}')\n",
        "print(f'The number of columns: {len(data.columns)}')\n",
        "\n",
        "#Data deviden in bengign and malign \n",
        "benign = data[data['label'] == 'benign']\n",
        "malignant = data[data['label'] == 'malignant']\n",
        "\n",
        "benign.to_csv('benign_data.csv', index=True)\n",
        "malignant.to_csv('malignant_data.csv', index=True)\n",
        "\n",
        "\n",
        "#statistics \n",
        "# Gemiddelden\n",
        "benign_mean = benign.mean(numeric_only=True)\n",
        "malignant_mean = malignant.mean(numeric_only=True)\n",
        "\n",
        "# Standaarddeviaties\n",
        "benign_std = benign.std(numeric_only=True)\n",
        "malignant_std = malignant.std(numeric_only=True)\n",
        "\n",
        "#Print statistiek \n",
        "benign_stats = pd.DataFrame({\n",
        "    'mean': benign.mean(numeric_only=True),\n",
        "    'std': benign.std(numeric_only=True)\n",
        "})\n",
        "print(benign_stats)\n",
        "benign_stats.T.to_csv('benign_stats.csv')\n",
        "\n",
        "\n",
        "malignant_stats = pd.DataFrame({\n",
        "    'mean': malignant.mean(numeric_only=True),\n",
        "    'std': malignant.std(numeric_only=True)\n",
        "})\n",
        "malignant_stats.T.to_csv('malignant_stats.csv')\n",
        "\n",
        "\n"
      ]
    }
  ],
  "metadata": {
    "colab": {
      "name": "assignment.ipynb",
      "provenance": []
    },
    "kernelspec": {
      "display_name": "Python 3",
      "language": "python",
      "name": "python3"
    },
    "language_info": {
      "codemirror_mode": {
        "name": "ipython",
        "version": 3
      },
      "file_extension": ".py",
      "mimetype": "text/x-python",
      "name": "python",
      "nbconvert_exporter": "python",
      "pygments_lexer": "ipython3",
      "version": "3.12.9"
    }
  },
  "nbformat": 4,
  "nbformat_minor": 0
}
